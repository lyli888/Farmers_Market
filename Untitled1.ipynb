{
 "cells": [
  {
   "cell_type": "code",
   "execution_count": null,
   "metadata": {},
   "outputs": [],
   "source": [
    "import csv"
   ]
  },
  {
   "cell_type": "code",
   "execution_count": null,
   "metadata": {},
   "outputs": [],
   "source": [
    "# Read in raw data from csv\n",
    "rawData = csv.reader(open('fm_output/farmers_market_cleaned.csv', 'rb'), dialect='excel')"
   ]
  },
  {
   "cell_type": "code",
   "execution_count": null,
   "metadata": {},
   "outputs": [],
   "source": [
    "# the template. where data from the csv will be formatted to geojson\n",
    "template = \\\n",
    "   ''' \\\n",
    "   { \"type\" : \"Feature\",\n",
    "       \"geometry\" : {\n",
    "           \"type\" : \"Point\",\n",
    "           \"coordinates\" : [%s, %s]},\n",
    "       \"properties\" : { \"id\" : %s, \"unixTime\" : \"%s\", \"msgtext\" : \"%s\", \"userID\": \"%s\"}\n",
    "       },\n",
    "   '''"
   ]
  }
 ],
 "metadata": {
  "kernelspec": {
   "display_name": "Python [conda env:PythonData]",
   "language": "python",
   "name": "conda-env-PythonData-py"
  },
  "language_info": {
   "codemirror_mode": {
    "name": "ipython",
    "version": 3
   },
   "file_extension": ".py",
   "mimetype": "text/x-python",
   "name": "python",
   "nbconvert_exporter": "python",
   "pygments_lexer": "ipython3",
   "version": "3.6.10"
  }
 },
 "nbformat": 4,
 "nbformat_minor": 4
}
