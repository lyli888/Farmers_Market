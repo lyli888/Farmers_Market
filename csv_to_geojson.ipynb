{
 "cells": [
  {
   "cell_type": "code",
   "execution_count": 1,
   "metadata": {},
   "outputs": [],
   "source": [
    "# import dependencies\n",
    "\n",
    "import csv\n",
    "import json\n",
    "from collections import OrderedDict"
   ]
  },
  {
   "cell_type": "code",
   "execution_count": 2,
   "metadata": {},
   "outputs": [],
   "source": [
    "li = []\n",
    "with open('fm_output/farmers_market_cleaned.csv', 'r') as csvfile:\n",
    "    reader = csv.reader(csvfile, delimiter=',')\n",
    "    for y, x, MarketName, WIC, Organic, Vegetables, Fruits, Meat, Grains in reader:\n",
    "        d = OrderedDict()\n",
    "        d['type'] = 'Feature'\n",
    "        d['geometry'] = {\n",
    "            'type': 'Point',\n",
    "            'coordinates': [x, y]\n",
    "        }\n",
    "        d['properties'] = {\n",
    "            'MarketName': MarketName,\n",
    "            'WIC': WIC,\n",
    "            'Organic': Organic,\n",
    "            'Vegetables': Vegetables,\n",
    "            'Fruits': Fruits,\n",
    "            'Meat': Meat,\n",
    "            'Grains': Grains\n",
    "        }\n",
    "        li.append(d)\n",
    "        \n",
    "d = OrderedDict()\n",
    "d['type'] = 'FeatureCollection'\n",
    "d['features'] = li\n",
    "with open('GeoObs2.json', 'w') as f:\n",
    "    f.write(json.dumps(d, sort_keys=False, indent=4))"
   ]
  },
  {
   "cell_type": "code",
   "execution_count": null,
   "metadata": {},
   "outputs": [],
   "source": []
  },
  {
   "cell_type": "code",
   "execution_count": null,
   "metadata": {},
   "outputs": [],
   "source": []
  }
 ],
 "metadata": {
  "kernelspec": {
   "display_name": "Python 3",
   "language": "python",
   "name": "python3"
  },
  "language_info": {
   "codemirror_mode": {
    "name": "ipython",
    "version": 3
   },
   "file_extension": ".py",
   "mimetype": "text/x-python",
   "name": "python",
   "nbconvert_exporter": "python",
   "pygments_lexer": "ipython3",
   "version": "3.8.5"
  }
 },
 "nbformat": 4,
 "nbformat_minor": 4
}
